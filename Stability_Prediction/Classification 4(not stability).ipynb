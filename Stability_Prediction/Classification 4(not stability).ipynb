{
 "cells": [
  {
   "cell_type": "code",
   "execution_count": 85,
   "metadata": {},
   "outputs": [],
   "source": [
    "import math\n",
    "import numpy as np\n",
    "import matplotlib.pyplot as plt\n",
    "import torch\n",
    "from torch.utils.data import Dataset\n",
    "from torch.utils.data import DataLoader"
   ]
  },
  {
   "cell_type": "code",
   "execution_count": 86,
   "metadata": {},
   "outputs": [],
   "source": [
    "class MyDataset(Dataset):\n",
    "    # 构造函数\n",
    "    def __init__(self, data_tensor, target_tensor):\n",
    "        self.data_tensor = data_tensor\n",
    "        self.target_tensor = target_tensor\n",
    "    # 返回数据集大小\n",
    "    def __len__(self):\n",
    "        return self.data_tensor.size(0)\n",
    "    # 返回索引的数据与标签\n",
    "    def __getitem__(self, index):\n",
    "        return self.data_tensor[index], self.target_tensor[index]"
   ]
  },
  {
   "cell_type": "code",
   "execution_count": 87,
   "metadata": {},
   "outputs": [],
   "source": [
    "def map_array(arr):\n",
    "    mapped_array = []\n",
    "    for num in arr:\n",
    "        if num == 0:\n",
    "            mapped_array.append([1, 0])\n",
    "        elif num == 1:\n",
    "            mapped_array.append([0, 1])\n",
    "    return mapped_array"
   ]
  },
  {
   "cell_type": "code",
   "execution_count": 88,
   "metadata": {},
   "outputs": [],
   "source": [
    "def Predict(O):\n",
    "    Output = O.detach().numpy().tolist()\n",
    "    if(Output(0)>Output(1)):\n",
    "        return 0\n",
    "    else:\n",
    "        return 1"
   ]
  },
  {
   "cell_type": "code",
   "execution_count": 89,
   "metadata": {},
   "outputs": [],
   "source": [
    "from scipy.io import loadmat\n",
    "file6 = \"D:\\\\320 Deep-learning\\data\\\\1118_S6_time1000.mat\"\n",
    "data6 = loadmat(file6)\n",
    "file12 = \"D:\\\\320 Deep-learning\\data\\\\1111_S12_time1000.mat\"\n",
    "data12 = loadmat(file12)\n",
    "file24 = \"D:\\\\320 Deep-learning\\data\\\\1111_S24_time1000.mat\"\n",
    "data24 = loadmat(file24)\n",
    "\"\"\" experiment\n",
    "X_train = data['Input']\n",
    "X_train = torch.from_numpy(X_train).float()\n",
    "y_train = data['Stability']\n",
    "y_train = y_train.astype(np.float32) / 255\n",
    "y_train = torch.tensor(y_train)\n",
    "len_train = len(y_train)\n",
    "X_test = data['PreInput']\n",
    "X_test = torch.from_numpy(X_test).float()\n",
    "y_test = data['PreSta']\n",
    "y_test = y_test.astype(np.float32) / 255\n",
    "y_test = torch.tensor(y_test)\n",
    "len_test = len(y_test) \"\"\"\n",
    "\n",
    "#simulation\n",
    "X6 = data6['Input_Presence']\n",
    "X6 = torch.from_numpy(X6).float()\n",
    "y6 = data6['Stability']\n",
    "y6 = torch.from_numpy(y6).float()\n",
    "\n",
    "X12 = data12['Input_RelativeAbundance']\n",
    "X12 = torch.from_numpy(X12).float()\n",
    "y12 = data12['Stability']\n",
    "y12 = torch.from_numpy(y12).float()\n",
    "\n",
    "X24 = data24['Input_RelativeAbundance']\n",
    "X24 = torch.from_numpy(X24).float()\n",
    "y24= data24['Stability']\n",
    "y24 = torch.from_numpy(y24).float()\n",
    "\n",
    "t = 300\n",
    "X_train = X6[0:t,:]\n",
    "y_train = X6[0:t,0]\n",
    "X_test = X6[t:1000,:]\n",
    "y_test = X6[t:1000,0]\n",
    "\n",
    "len_train = len(y_train)\n",
    "len_test = len(y_test)\n",
    "\n",
    "# total number of 0 or 1 in training data (prepare for weight)\n",
    "Num_0 = (y_train==0).sum()\n",
    "Num_1 = (y_train==1).sum()\n",
    "Weights = torch.Tensor([1/Num_0.item(),1/Num_1.item()])\n",
    "\n",
    "\n",
    "# 将数据封装成Dataset\n",
    "train_dataset = MyDataset(X_train, y_train)\n",
    "test_dataset = MyDataset(X_test, y_test)"
   ]
  },
  {
   "cell_type": "code",
   "execution_count": 90,
   "metadata": {},
   "outputs": [],
   "source": [
    "# number of subprocesses to use for data loading\n",
    "num_workers = 0\n",
    "# how many samples per batch to load\n",
    "batch_size = 5\n",
    "\n",
    "# prepare data loaders\n",
    "train_dataloader = DataLoader(dataset = train_dataset, # 传入的数据集, 必须参数\n",
    "                               batch_size = batch_size,       # 输出的batch大小\n",
    "                               shuffle = True,       # 数据是否打乱\n",
    "                               num_workers = num_workers)      # 进程数, 0表示只有主进程\n",
    "test_dataloader = DataLoader(dataset = test_dataset, # 传入的数据集, 必须参数\n",
    "                               batch_size = batch_size,       # 输出的batch大小\n",
    "                               shuffle = True,       # 数据是否打乱\n",
    "                               num_workers = num_workers)      # 进程数, 0表示只有主进程\n"
   ]
  },
  {
   "cell_type": "code",
   "execution_count": 91,
   "metadata": {},
   "outputs": [],
   "source": [
    "import torch.nn as nn\n",
    "import torch.nn.functional as F\n",
    "\n",
    "# define NN architecture\n",
    "class Net(nn.Module):\n",
    "    def __init__(self):\n",
    "        super(Net,self).__init__()\n",
    "        self.fc1 = nn.Linear(54, 2)\n",
    "    def forward(self,x):\n",
    "        #x = self.fc1(x) \n",
    "        x = F.sigmoid(self.fc1(x))\n",
    "        return x\n",
    "\n",
    "# initialize the NN\n",
    "model = Net()\n",
    "#print(model)"
   ]
  },
  {
   "cell_type": "code",
   "execution_count": 92,
   "metadata": {},
   "outputs": [],
   "source": [
    "# specify loss function\n",
    "#criterion = nn.BCEWithLogitsLoss()\n",
    "criterion = nn.CrossEntropyLoss()\n",
    "# specify optimizer (stochastic gradient descent) and learning rate = 0.01\n",
    "optimizer = torch.optim.Adam(model.parameters(),lr = 0.05)"
   ]
  },
  {
   "cell_type": "code",
   "execution_count": 93,
   "metadata": {},
   "outputs": [
    {
     "name": "stdout",
     "output_type": "stream",
     "text": [
      "[0.9042857142857142, 0.9328571428571428, 0.9842857142857143, 0.9957142857142857, 0.9914285714285714, 0.9985714285714286, 0.9985714285714286, 0.9985714285714286, 0.9985714285714286, 1.0, 1.0, 1.0, 1.0, 1.0, 1.0, 1.0, 1.0, 1.0, 1.0, 1.0, 1.0, 1.0, 1.0, 1.0, 1.0, 1.0, 1.0, 1.0, 1.0, 1.0, 1.0, 1.0, 1.0, 1.0, 1.0, 1.0, 1.0, 1.0, 1.0, 1.0, 1.0, 1.0, 1.0, 1.0, 1.0, 1.0, 1.0, 1.0, 1.0, 1.0, 1.0, 1.0, 1.0, 1.0, 1.0, 1.0, 1.0, 1.0, 1.0, 1.0, 1.0, 1.0, 1.0, 1.0, 1.0, 1.0, 1.0, 1.0, 1.0, 1.0, 1.0, 1.0, 1.0, 1.0, 1.0, 1.0, 1.0, 1.0, 1.0, 1.0, 1.0, 1.0, 1.0, 1.0, 1.0, 1.0, 1.0, 1.0, 1.0, 1.0, 1.0, 1.0, 1.0, 1.0, 1.0, 1.0, 1.0, 1.0, 1.0, 1.0, 1.0, 1.0, 1.0, 1.0, 1.0, 1.0, 1.0, 1.0, 1.0, 1.0, 1.0, 1.0, 1.0, 1.0, 1.0, 1.0, 1.0, 1.0, 1.0, 1.0, 1.0, 1.0, 1.0, 1.0, 1.0, 1.0, 1.0, 1.0, 1.0, 1.0, 1.0, 1.0, 1.0, 1.0, 1.0, 1.0, 1.0, 1.0, 1.0, 1.0, 1.0, 1.0, 1.0, 1.0, 1.0, 1.0, 1.0, 1.0, 1.0, 1.0, 1.0, 1.0, 1.0, 1.0, 1.0, 1.0, 1.0, 1.0, 1.0, 1.0, 1.0, 1.0, 1.0, 1.0, 1.0, 1.0, 1.0, 1.0, 1.0, 1.0, 1.0, 1.0, 1.0, 1.0, 1.0, 1.0, 1.0, 1.0, 1.0, 1.0, 1.0, 1.0, 1.0, 1.0, 1.0, 1.0, 1.0, 1.0, 1.0, 1.0, 1.0, 1.0, 1.0, 1.0, 1.0, 1.0, 1.0, 1.0, 1.0, 1.0]\n"
     ]
    },
    {
     "data": {
      "image/png": "[encoded data removed]",
      "text/plain": [
       "<Figure size 640x480 with 1 Axes>"
      ]
     },
     "metadata": {},
     "output_type": "display_data"
    }
   ],
   "source": [
    "# number of epochs to train the model\n",
    "n_epochs = 200\n",
    "train_loss_min = np.Inf  # set initial \"min\" to infinity\n",
    "train_loss_curve = list()\n",
    "test_loss_curve = list()\n",
    "test_acc = list()\n",
    "\n",
    "for epoch in range(n_epochs):\n",
    "    train_loss = 0\n",
    "    # train the model #\n",
    "    loss = 0\n",
    "    for data, target in train_dataloader: \n",
    "        optimizer.zero_grad()\n",
    "        output = model(data)\n",
    "        #make target a tensor:torch.Size([10]),dtype = long\n",
    "        target = target.view(batch_size)\n",
    "        target = target.long()\n",
    "        #target = target.T\n",
    "        loss = criterion(output,target)\n",
    "        loss.backward()\n",
    "        optimizer.step()\n",
    "        train_loss += loss.item() * data.size(0)\n",
    "    # calculate average loss over an epoch\n",
    "    train_loss = train_loss / len_train\n",
    "    train_loss_curve.append(train_loss)\n",
    "    #print('Epoch: {} \\tTraining Loss: {:.6f}'.format(epoch+1, train_loss))\n",
    "    \n",
    "    # save model\n",
    "    if train_loss <= train_loss_min:\n",
    "        #print('Train loss decreased ({:.6f} --> {:.6f}).  Saving model ...'.format(train_loss_min,train_loss))\n",
    "        torch.save(model.state_dict(), 'model.pt')\n",
    "        train_loss_min = train_loss\n",
    "\n",
    "    test_loss = 0.0\n",
    "    \n",
    "    class_correct = list(0. for i in range(2))\n",
    "    class_total = list(0. for i in range(2))\n",
    "\n",
    "    for data, target in test_dataloader:\n",
    "        output = model(data)\n",
    "        target = target.view(batch_size)\n",
    "        target = target.long()\n",
    "        loss = criterion(output, target)\n",
    "        test_loss += loss.item()*data.size(0)\n",
    "        pred = output.argmax(dim=1)\n",
    "        correct = np.squeeze(pred.eq(target.data.view_as(pred)))\n",
    "        for i in range(len(target)):\n",
    "            if (target.data[i]>0.5):\n",
    "                label = 1\n",
    "            else:\n",
    "                label = 0\n",
    "        #label = torch.tensor(target.data[i], dtype=torch.int64)\n",
    "            class_correct[label] += correct[i].item()\n",
    "            class_total[label] += 1\n",
    "    test_acc.append(np.sum(class_correct) / np.sum(class_total))\n",
    "    test_loss = test_loss/len_test\n",
    "    test_loss_curve.append(test_loss)\n",
    "print(test_acc)\n",
    "plt.plot(np.linspace(1,n_epochs,n_epochs),train_loss_curve)\n",
    "plt.plot(np.linspace(1,n_epochs,n_epochs),test_loss_curve)\n",
    "plt.plot(np.linspace(1,n_epochs,n_epochs),test_acc)\n",
    "plt.title(\"Training and Test Loss\")\n",
    "plt.xlabel(\"Epoch\")\n",
    "plt.ylim(0,1)\n",
    "plt.legend(['Training Loss','Test Loss','Test Accuracy'])\n",
    "plt.show()"
   ]
  },
  {
   "cell_type": "code",
   "execution_count": 94,
   "metadata": {},
   "outputs": [
    {
     "name": "stdout",
     "output_type": "stream",
     "text": [
      "Parameter containing:\n",
      "tensor([[-21.9166,   2.6251,   4.2459,   2.2463,   2.4448,   4.2797,   2.7524,\n",
      "           1.3341,   1.7436,   2.2859,   1.7168,   2.5428,   2.6211,   1.6896,\n",
      "           1.8454,   1.6358,   2.6126,   1.0425,   1.6915,   2.5666,   2.0620,\n",
      "           2.2315,   1.1724,   2.1827,   1.3383,   2.2312,   1.5727,   1.7312,\n",
      "           2.1761,   2.0010,   1.8192,   1.3885,   2.9502,   1.3000,   1.3835,\n",
      "           1.3238,   2.1715,   2.5607,   2.2572,   1.3755,   2.2850,   1.1485,\n",
      "           2.2044,   1.0722,   2.0119,   2.7565,   1.4543,   2.5702,   1.2742,\n",
      "           2.2238,   1.9358,   1.5297,   4.2471,   2.7973],\n",
      "        [ 21.9423,  -2.6145,  -4.3904,  -2.2322,  -2.4375,  -4.3583,  -2.7431,\n",
      "          -1.3051,  -1.7188,  -2.2764,  -1.6955,  -2.5340,  -2.6019,  -1.6519,\n",
      "          -1.8230,  -1.6057,  -2.6103,  -1.0157,  -1.6778,  -2.5688,  -2.0525,\n",
      "          -2.2227,  -1.1362,  -2.1539,  -1.3114,  -2.2107,  -1.5425,  -1.7051,\n",
      "          -2.1636,  -1.9718,  -1.7974,  -1.3627,  -2.9385,  -1.2853,  -1.3581,\n",
      "          -1.2965,  -2.1524,  -2.5521,  -2.2459,  -1.3424,  -2.2749,  -1.1143,\n",
      "          -2.1886,  -1.0361,  -1.9956,  -2.7550,  -1.4185,  -2.5661,  -1.2485,\n",
      "          -2.2118,  -1.9211,  -1.5080,  -4.2368,  -2.8019]],\n",
      "       requires_grad=True)\n"
     ]
    }
   ],
   "source": [
    "model.load_state_dict(torch.load('model.pt'))\n",
    "print(model.fc1.weight)\n",
    "\n",
    "test_loss = 0.0\n",
    "correct = 0\n",
    "OUTPUT = []\n",
    "\n",
    "for i in range(len_test):\n",
    "    # forward pass: compute predicted outputs by passing inputs to the model\n",
    "    output = model(X_test[i])\n",
    "    o = output.tolist()\n",
    "    OUTPUT.append(o)\n",
    "\n"
   ]
  }
 ],
 "metadata": {
  "kernelspec": {
   "display_name": "deep-learning",
   "language": "python",
   "name": "python3"
  },
  "language_info": {
   "codemirror_mode": {
    "name": "ipython",
    "version": 3
   },
   "file_extension": ".py",
   "mimetype": "text/x-python",
   "name": "python",
   "nbconvert_exporter": "python",
   "pygments_lexer": "ipython3",
   "version": "3.11.6"
  },
  "orig_nbformat": 4
 },
 "nbformat": 4,
 "nbformat_minor": 2
}
